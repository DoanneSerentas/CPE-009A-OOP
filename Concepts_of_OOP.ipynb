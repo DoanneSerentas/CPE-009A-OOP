{
  "nbformat": 4,
  "nbformat_minor": 0,
  "metadata": {
    "colab": {
      "provenance": [],
      "authorship_tag": "ABX9TyNCY2lekcxjpNSLCXv3McCM",
      "include_colab_link": true
    },
    "kernelspec": {
      "name": "python3",
      "display_name": "Python 3"
    },
    "language_info": {
      "name": "python"
    }
  },
  "cells": [
    {
      "cell_type": "markdown",
      "metadata": {
        "id": "view-in-github",
        "colab_type": "text"
      },
      "source": [
        "<a href=\"https://colab.research.google.com/github/DoanneSerentas/CPE-009A-OOP/blob/main/Concepts_of_OOP.ipynb\" target=\"_parent\"><img src=\"https://colab.research.google.com/assets/colab-badge.svg\" alt=\"Open In Colab\"/></a>"
      ]
    },
    {
      "cell_type": "markdown",
      "source": [
        "Goal of OOP is to create \"objects\"\n",
        "\n",
        "POP             VS          OOP\n",
        ">Requires certain procedure of steps               |                        Program consists of objects\n",
        "\n",
        "Examples:\n",
        "POP - C, Pascal, basic\n",
        "OOP - Python C++"
      ],
      "metadata": {
        "id": "98k-sZZ2hf_x"
      }
    },
    {
      "cell_type": "code",
      "source": [
        "class Car:\n",
        "  pass\n",
        "\n",
        "obj1=Car()\n",
        "print(obj1)"
      ],
      "metadata": {
        "colab": {
          "base_uri": "https://localhost:8080/"
        },
        "id": "aDtYE1x5mZ_a",
        "outputId": "16363735-6a20-4a75-dc10-a170d01b967a"
      },
      "execution_count": 12,
      "outputs": [
        {
          "output_type": "stream",
          "name": "stdout",
          "text": [
            "<__main__.Car object at 0x7fe7004339a0>\n"
          ]
        }
      ]
    },
    {
      "cell_type": "code",
      "source": [
        "class Car:\n",
        "  def __init__(self,name,color,mileage):\n",
        "    self.name=name\n",
        "    self.color=color\n",
        "    self.mileage=mileage\n",
        "obj1=Car(\"BMW\",\"RED\",1000)\n",
        "obj2=Car(\"TOYOTA\",\"BLUE\",1200)\n",
        "print(obj1.name)\n",
        "print(obj1.color)\n",
        "print(obj1.mileage)"
      ],
      "metadata": {
        "colab": {
          "base_uri": "https://localhost:8080/"
        },
        "id": "7es2VPZcjDJ4",
        "outputId": "cfd6a462-aab0-4e0e-fd4b-abb9af102cde"
      },
      "execution_count": 21,
      "outputs": [
        {
          "output_type": "stream",
          "name": "stdout",
          "text": [
            "BMW\n",
            "RED\n",
            "1000\n"
          ]
        }
      ]
    },
    {
      "cell_type": "markdown",
      "source": [
        "Application 1 - Write a Python program that prints your student information with the following attributes: Name, Age, Course, And Section. Use class name Student(), Object name as student."
      ],
      "metadata": {
        "id": "HxI5deUwnM9o"
      }
    },
    {
      "cell_type": "code",
      "source": [
        "class Student:\n",
        "  def __init__(self,name,age,course,section):\n",
        "    self.name=name\n",
        "    self.age=age\n",
        "    self.course=course\n",
        "    self.section=section\n",
        "obj1=Student(\"Doanne\",20,\"CPE\",\"12S6\")\n",
        "print(\"My name information is\", obj1.name)\n",
        "print(\"My age information is\", obj1.age)\n",
        "print(\"My course information is\", obj1.course)\n",
        "print(\"My section information is\", obj1.section)"
      ],
      "metadata": {
        "colab": {
          "base_uri": "https://localhost:8080/"
        },
        "id": "-xwlqFY4oIcz",
        "outputId": "24cc3d92-78e9-4701-ee27-7a1490324107"
      },
      "execution_count": 27,
      "outputs": [
        {
          "output_type": "stream",
          "name": "stdout",
          "text": [
            "My name information is Doanne\n",
            "My age information is 20\n",
            "My course information is CPE\n",
            "My section information is 12S6\n"
          ]
        }
      ]
    },
    {
      "cell_type": "code",
      "source": [
        "class Student:\n",
        "  def __init__(self,name,age,course,section):\n",
        "    self.name=name\n",
        "    self.age=age\n",
        "    self.course=course\n",
        "    self.section=section\n",
        "\n",
        "name = input(\"Enter student's name: \")\n",
        "age = input(\"Enter student's age: \")\n",
        "course = input(\"Enter student's course: \")\n",
        "section = input(\"Enter student's section: \")\n",
        "\n",
        "obj1=Student(name,age,course,section)\n",
        "print(\"My name information is\", obj1.name)\n",
        "print(\"My age information is\", obj1.age)\n",
        "print(\"My course information is\", obj1.course)\n",
        "print(\"My section information is\", obj1.section)"
      ],
      "metadata": {
        "colab": {
          "base_uri": "https://localhost:8080/"
        },
        "id": "YL-fWnIWqR8v",
        "outputId": "9308c098-5d9e-4b4f-f47b-7906fe7012ba"
      },
      "execution_count": 30,
      "outputs": [
        {
          "output_type": "stream",
          "name": "stdout",
          "text": [
            "Enter student's name: Doanne\n",
            "Enter student's age: 20\n",
            "Enter student's course: CPE\n",
            "Enter student's section: 12S6\n",
            "My name information is Doanne\n",
            "My age information is 20\n",
            "My course information is CPE\n",
            "My section information is 12S6\n"
          ]
        }
      ]
    },
    {
      "cell_type": "code",
      "source": [],
      "metadata": {
        "id": "V-mZcXc0sicy"
      },
      "execution_count": null,
      "outputs": []
    }
  ]
}