{
  "cells": [
    {
      "cell_type": "markdown",
      "metadata": {
        "id": "view-in-github",
        "colab_type": "text"
      },
      "source": [
        "<a href=\"https://colab.research.google.com/github/DoanneSerentas/CPE-009A-OOP/blob/main/Jupyter_Notebook_OOP_Hands_on_Activity_1.1_Literals_Operators_and_Variables.ipynb\" target=\"_parent\"><img src=\"https://colab.research.google.com/assets/colab-badge.svg\" alt=\"Open In Colab\"/></a>"
      ]
    },
    {
      "cell_type": "markdown",
      "metadata": {
        "id": "yg04zyvk77qn"
      },
      "source": [
        "# SW#1 - Final"
      ]
    },
    {
      "cell_type": "markdown",
      "metadata": {
        "id": "G5t1g6Ua77q3"
      },
      "source": [
        "Group 3\n",
        "\n",
        "Section: CPE12S6\n",
        "\n",
        "Date performed: April 8, 2024"
      ]
    },
    {
      "cell_type": "markdown",
      "metadata": {
        "id": "r6z5xGP477q4"
      },
      "source": [
        "1\\. Make a program that takes two input and identifies if the first number is divisible by the second number."
      ]
    },
    {
      "cell_type": "code",
      "execution_count": null,
      "metadata": {
        "id": "jAPv9Eqj77q4"
      },
      "outputs": [],
      "source": []
    },
    {
      "cell_type": "markdown",
      "metadata": {
        "id": "fkmGkW-z77q5"
      },
      "source": [
        "2\\. Task 2"
      ]
    },
    {
      "cell_type": "code",
      "execution_count": null,
      "metadata": {
        "id": "yDhtGeC377q6"
      },
      "outputs": [],
      "source": []
    },
    {
      "cell_type": "markdown",
      "metadata": {
        "id": "dFBAeEaW77q6"
      },
      "source": [
        "## Contents\n",
        " - [Procedures](#procedures)\n",
        " - [Supplementary Activity](#supplementary_activities)\n",
        " - [Conclusion](#conclusion)"
      ]
    },
    {
      "cell_type": "markdown",
      "metadata": {
        "id": "JqcZxzak77q7"
      },
      "source": [
        "## Instructions for Lab Activities\n",
        "---\n",
        "Document all procedures and supplementary tasks performed in the activity.\n",
        "\n",
        "You may use these links for reference on markdown with Jupyter:\n",
        "\n",
        "https://jupyter-notebook.readthedocs.io/en/stable/examples/Notebook/Notebook%20Basics.html\n",
        "\n",
        "https://colab.research.google.com/notebooks/welcome.ipynb\n",
        "\n",
        "https://colab.research.google.com/notebooks/markdown_guide.ipynb\n",
        "\n",
        "Be creative in documenting how you did the procedures below using the markdown. Also provide your observations as often as necessary per step.\n",
        "\n",
        "Place your code per **In [ ]** corresponding to the specified procedure. An example is given below"
      ]
    },
    {
      "cell_type": "markdown",
      "metadata": {
        "id": "NDoHpl4u77q8"
      },
      "source": [
        "## <a id=\"procedures\">Procedures</a>"
      ]
    },
    {
      "cell_type": "markdown",
      "metadata": {
        "id": "3bOWuLVf77q9"
      },
      "source": [
        "### Assigning variables of different data types in Python"
      ]
    },
    {
      "cell_type": "markdown",
      "metadata": {
        "id": "3M0SE9jx77rA"
      },
      "source": [
        "1\\. Assign a variable ***value*** to be equal to 1 then display the value using print()"
      ]
    },
    {
      "cell_type": "code",
      "execution_count": null,
      "metadata": {
        "id": "CV7KYh3l77rA",
        "outputId": "97dafd40-1a82-4a0e-809c-db92e4b9c7c8"
      },
      "outputs": [
        {
          "name": "stdout",
          "output_type": "stream",
          "text": [
            "1\n"
          ]
        }
      ],
      "source": [
        "value = 1\n",
        "print(value)"
      ]
    },
    {
      "cell_type": "markdown",
      "metadata": {
        "id": "OSnUAyey77rG"
      },
      "source": [
        "2\\. Second step. Note how the numberings are done."
      ]
    },
    {
      "cell_type": "code",
      "execution_count": null,
      "metadata": {
        "id": "csJB5JL-77rH",
        "outputId": "1d684e03-efc1-422f-919a-214e74396c3b"
      },
      "outputs": [
        {
          "data": {
            "text/plain": [
              "int"
            ]
          },
          "execution_count": 3,
          "metadata": {},
          "output_type": "execute_result"
        }
      ],
      "source": [
        "type(value)"
      ]
    },
    {
      "cell_type": "markdown",
      "metadata": {
        "id": "mNayQeDL77rI"
      },
      "source": [
        "### Observation:\n",
        "\n",
        "\n",
        "It can be observed that the **print**(value) code displays the number assigned to the value variable."
      ]
    },
    {
      "cell_type": "markdown",
      "metadata": {
        "id": "NJMmjALx77rJ"
      },
      "source": [
        "## <a id=\"supplementary_activities\">Supplementary Activity</a>"
      ]
    },
    {
      "cell_type": "markdown",
      "source": [
        "1."
      ],
      "metadata": {
        "id": "5dST8SGr9PRY"
      }
    },
    {
      "cell_type": "code",
      "source": [
        "base=float(input(\"Enter the base of the triangle\"))\n",
        "height=float(input(\"Enter the height of the triangle:\"))\n",
        "area=0.5 * base * height\n",
        "print(f\"The area of the triangle is {area}\")"
      ],
      "metadata": {
        "colab": {
          "base_uri": "https://localhost:8080/"
        },
        "id": "2DtYsIgs9JKA",
        "outputId": "0498c328-6f80-4250-f87d-2a6e54f2f294"
      },
      "execution_count": null,
      "outputs": [
        {
          "output_type": "stream",
          "name": "stdout",
          "text": [
            "Enter the base of the triangle10\n",
            "Enter the height of the triangle:5\n",
            "The area of the triangle is 25.0\n"
          ]
        }
      ]
    },
    {
      "cell_type": "markdown",
      "source": [
        "2."
      ],
      "metadata": {
        "id": "FxhjJLbx9RUp"
      }
    },
    {
      "cell_type": "code",
      "source": [
        "def celsius_to_fahrenheit(celsius):\n",
        "  fahrenheit=(celsius * 9/5)+32\n",
        "  return fahrenheit\n",
        "celsius_input=float(input(\"Enter the temperature in Celsius:\"))\n",
        "fahrenheit_output=celsius_to_fahrenheit(celsius_input)\n",
        "print(f\"{celsius_input}°C={fahrenheit_output}°F\")"
      ],
      "metadata": {
        "colab": {
          "base_uri": "https://localhost:8080/"
        },
        "id": "9LMUmrrI9TeL",
        "outputId": "869c6d31-498a-45ba-c2a9-2f7de49a5fb8"
      },
      "execution_count": null,
      "outputs": [
        {
          "output_type": "stream",
          "name": "stdout",
          "text": [
            "Enter the temperature in Celsius:34\n",
            "34.0°C=93.2°F\n"
          ]
        }
      ]
    },
    {
      "cell_type": "markdown",
      "source": [
        "3."
      ],
      "metadata": {
        "id": "-uB1JSnY9gmS"
      }
    },
    {
      "cell_type": "code",
      "source": [
        "def calculate_distance(x1, y1, x2, y2):\n",
        "  distance = ((x2 - x1)**2 + (y2 - y1)**2)**0.5\n",
        "  return distance\n",
        "x1, y1 = 2, 2\n",
        "x2, y2 = -3, 3\n",
        "distance = calculate_distance(x1, y1, x2, y2)\n",
        "print(f\"The distance between the points is: {distance}\")"
      ],
      "metadata": {
        "colab": {
          "base_uri": "https://localhost:8080/"
        },
        "id": "TPGRWN709iiz",
        "outputId": "3d613b9a-b01a-4277-f4b8-a7478c6c7c8a"
      },
      "execution_count": null,
      "outputs": [
        {
          "output_type": "stream",
          "name": "stdout",
          "text": [
            "The distance between the points is: 5.0990195135927845\n"
          ]
        }
      ]
    },
    {
      "cell_type": "markdown",
      "source": [
        "1. Give one major difference in syntax that Python has with other languages such as C?\n",
        "\n",
        "\n",
        "\n",
        "> One major difference in syntax that Python has compared to languages like C is that Python uses\n",
        "indentation to define code blocks, such as loops, conditions, and functions, while languages like\n",
        "C typically use curly braces {} or keywords like begin and end to denote code blocks.\n",
        "\n",
        "\n"
      ],
      "metadata": {
        "id": "k1cGJuyqB30T"
      }
    },
    {
      "cell_type": "markdown",
      "source": [
        "2. How does variable assignment differ in Python compared with other languages such as C?\n",
        "\n",
        "\n",
        "\n",
        "> In Python, variable assignment works slightly differently compared to languages like C. In\n",
        "Python, we don't need to explicitly declare the variable type before assigning a value to it. Python\n",
        "dynamically assigns the type of the variable based on the value assigned to it. This means we\n",
        "can assign different types of values to the same variable without any issues.\n",
        "\n",
        "\n",
        "\n"
      ],
      "metadata": {
        "id": "8IgeNmPtB-eh"
      }
    },
    {
      "cell_type": "markdown",
      "source": [
        "3. Try assigning variable names that start with numbers, and special characters. Is the assigning\n",
        "of variables that start with numbers accepted by Python? For Special Characters? Is there an\n",
        "exception for variables special characters?\n",
        "\n",
        "\n",
        "\n",
        "\n",
        "> In Python, variable names cannot start with a number or special character. Variable names in\n",
        "Python must start with a letter (a-z, A-Z) or an underscore (_) followed by zero or more letters,digits, or underscores.\n",
        "If you try to assign a variable name that starts with a number or a special character, Python will\n",
        "raise a SyntaxError.\n",
        "Here are examples to show that variables starting with numbers and special characters are not\n",
        "accepted in Python:\n",
        "\n",
        "\n",
        "![image_2024-05-20_160703160.png](data:image/png;base64,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)\n"
      ],
      "metadata": {
        "id": "5k8zfpowCCto"
      }
    },
    {
      "cell_type": "markdown",
      "source": [
        "\n",
        "![image_2024-05-20_160859095.png](data:image/png;base64,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)\n",
        "\n"
      ],
      "metadata": {
        "id": "7g24llalC7Vq"
      }
    },
    {
      "cell_type": "markdown",
      "source": [
        "In Python, the variable name must adhere to the rules specified above to be valid for assignment."
      ],
      "metadata": {
        "id": "KowBRfzFDLmM"
      }
    },
    {
      "cell_type": "markdown",
      "source": [
        "4. Do the assignment operators (+, -, , /, %, *) work for all data types? Why or Why not?\n",
        "\n",
        "\n",
        "In Python, the assignment operators (+, -, *, /, %) work differently for different data types.\n",
        "*   For numeric data types like integers and floating-point numbers, the assignment operators\n",
        "(+, -, *, /, %) work as expected for performing arithmetic operations.\n",
        "*   For strings, the + operator works as a concatenation operator (joining two strings together),\n",
        "and the * operator works as a repetition operator (repeating a string a certain number of\n",
        "times).\n",
        "*   For lists and other iterable data types, the + operator works as a concatenation operator,\n",
        "and the * operator works as a repetition operator.\n",
        "*   Division (/) works differently for integers (result is a 􀀂oat) and 􀀂oating-point numbers\n",
        "(result is a float).\n",
        "\n",
        "The behavior of assignment operators in Python depends on the data types involved in the\n",
        "operation. Python is a dynamically typed language, which means the behavior of these operators can vary depending on the data types being used.\n",
        "\n",
        "\n",
        "\n",
        "\n",
        "\n"
      ],
      "metadata": {
        "id": "QnFPmBNDDSQJ"
      }
    },
    {
      "cell_type": "markdown",
      "source": [
        "5. How does the * operator differ from the ** operator?\n",
        "\n",
        "\n",
        "> The * operator is used for multiplication and repetition, while the ** operator is used for\n",
        "exponentiation and accepting keyword arguments in function de􀀁nitions.\n"
      ],
      "metadata": {
        "id": "NMyHMhzmD_D7"
      }
    },
    {
      "cell_type": "markdown",
      "metadata": {
        "id": "D222AqoB77rK"
      },
      "source": [
        "## <a id=\"conclusion\">Conclusion</a>"
      ]
    },
    {
      "cell_type": "markdown",
      "source": [
        "With this lab activity we learned and able to optimized asign and math operators with the use of\n",
        "python programming."
      ],
      "metadata": {
        "id": "8MYR_bTs-mwh"
      }
    }
  ],
  "metadata": {
    "kernelspec": {
      "display_name": "Python 3",
      "language": "python",
      "name": "python3"
    },
    "language_info": {
      "codemirror_mode": {
        "name": "ipython",
        "version": 3
      },
      "file_extension": ".py",
      "mimetype": "text/x-python",
      "name": "python",
      "nbconvert_exporter": "python",
      "pygments_lexer": "ipython3",
      "version": "3.7.3"
    },
    "colab": {
      "provenance": [],
      "include_colab_link": true
    }
  },
  "nbformat": 4,
  "nbformat_minor": 0
}