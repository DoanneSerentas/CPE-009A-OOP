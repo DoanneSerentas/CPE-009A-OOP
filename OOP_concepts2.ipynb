{
  "nbformat": 4,
  "nbformat_minor": 0,
  "metadata": {
    "colab": {
      "provenance": [],
      "authorship_tag": "ABX9TyMDKTGzr9khEQZ3e4UxvKB6",
      "include_colab_link": true
    },
    "kernelspec": {
      "name": "python3",
      "display_name": "Python 3"
    },
    "language_info": {
      "name": "python"
    }
  },
  "cells": [
    {
      "cell_type": "markdown",
      "metadata": {
        "id": "view-in-github",
        "colab_type": "text"
      },
      "source": [
        "<a href=\"https://colab.research.google.com/github/DoanneSerentas/CPE-009A-OOP/blob/main/OOP_concepts2.ipynb\" target=\"_parent\"><img src=\"https://colab.research.google.com/assets/colab-badge.svg\" alt=\"Open In Colab\"/></a>"
      ]
    },
    {
      "cell_type": "code",
      "execution_count": 10,
      "metadata": {
        "colab": {
          "base_uri": "https://localhost:8080/"
        },
        "id": "zDc0X0gmfsXy",
        "outputId": "f6022903-ca9f-4e52-def9-2e7cc2711f63"
      },
      "outputs": [
        {
          "output_type": "stream",
          "name": "stdout",
          "text": [
            "16\n",
            "6.928\n"
          ]
        }
      ],
      "source": [
        "class RegularPolygon:\n",
        "  def __init__(self,side):\n",
        "    self.side=side\n",
        "class Square(RegularPolygon): #inherits the prop of superclass regular polygon\n",
        "  def area(self): #ddefins the method/function to get the the area of square\n",
        "    return self.side*self.side\n",
        "class EquilateralTriangle(RegularPolygon):\n",
        "  def area(self): #ddefins the method/function to get the the area of equilateral triangle\n",
        "    return self.side*self.side*0.433\n",
        "\n",
        "square=Square(4)#creates and object name square\n",
        "print(square.area()) #print the instance of the attribute of square class\n",
        "equiltriangle=EquilateralTriangle(4)#creates and object name equilateraltriangle\n",
        "print(equiltriangle.area())#print the instance of the attribute of equiateral triangle"
      ]
    },
    {
      "cell_type": "markdown",
      "source": [
        "Encapsulation using Mangling (double__underscore)\n"
      ],
      "metadata": {
        "id": "ckhgZrQIruYw"
      }
    },
    {
      "cell_type": "code",
      "source": [
        "class RegularPolygon:\n",
        "  def __init__(self,side):\n",
        "    self.__side=side\n",
        "  def area(self):\n",
        "    print(self.__side*self.__side)\n",
        "class Square(RegularPolygon):\n",
        "  pass\n",
        "\n",
        "square=Square(4)\n",
        "square.area()"
      ],
      "metadata": {
        "colab": {
          "base_uri": "https://localhost:8080/"
        },
        "id": "2rHKEVVbrtyv",
        "outputId": "a4da218d-999f-47cb-c4f6-337f4753f46a"
      },
      "execution_count": 14,
      "outputs": [
        {
          "output_type": "stream",
          "name": "stdout",
          "text": [
            "16\n"
          ]
        }
      ]
    },
    {
      "cell_type": "markdown",
      "source": [
        "Application"
      ],
      "metadata": {
        "id": "NUMI_OVlup4P"
      }
    },
    {
      "cell_type": "code",
      "source": [
        "class Person:\n",
        "    def __init__(self,prelim,mid,final):\n",
        "      self.prelim=prelim\n",
        "      self.mid=mid\n",
        "      self.final=final\n",
        "    def Grade(self):\n",
        "      return ((self.prelim+self.mid+self.final)/3)\n",
        "class Student(Person):\n",
        "  pass\n",
        "\n",
        "Student1=Student(95,85,90)\n",
        "Student2=Student(80,75,85)\n",
        "Student3=Student(70,65,75)\n",
        "print(\"Student 1 score is:\",Student1.Grade())\n",
        "print(\"Student 2 score is:\",Student2.Grade())\n",
        "print(\"Student 3 score is:\",Student3.Grade())"
      ],
      "metadata": {
        "colab": {
          "base_uri": "https://localhost:8080/"
        },
        "id": "yeJFtgHsurd2",
        "outputId": "1b13ad41-8904-47c3-cf4a-ea20aa6ce8a3"
      },
      "execution_count": 37,
      "outputs": [
        {
          "output_type": "stream",
          "name": "stdout",
          "text": [
            "Student 1 score is: 90.0\n",
            "Student 2 score is: 80.0\n",
            "Student 3 score is: 70.0\n"
          ]
        }
      ]
    }
  ]
}