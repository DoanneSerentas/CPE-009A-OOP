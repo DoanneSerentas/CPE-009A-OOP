{
  "nbformat": 4,
  "nbformat_minor": 0,
  "metadata": {
    "colab": {
      "provenance": [],
      "authorship_tag": "ABX9TyN8IJLxEp96tcgZaIVmtAsR",
      "include_colab_link": true
    },
    "kernelspec": {
      "name": "python3",
      "display_name": "Python 3"
    },
    "language_info": {
      "name": "python"
    }
  },
  "cells": [
    {
      "cell_type": "markdown",
      "metadata": {
        "id": "view-in-github",
        "colab_type": "text"
      },
      "source": [
        "<a href=\"https://colab.research.google.com/github/DoanneSerentas/CPE-009A-OOP/blob/main/OOP_concepts2_application_2.ipynb\" target=\"_parent\"><img src=\"https://colab.research.google.com/assets/colab-badge.svg\" alt=\"Open In Colab\"/></a>"
      ]
    },
    {
      "cell_type": "markdown",
      "source": [
        "#Application #2\n",
        "\n",
        "#Create a class name Shapes(5)\n",
        "#Attributes sides\n",
        "#Create a function/meothod that displays the no. of sides of the shape\n",
        "#Inheritance, encapsulation, and **ploymorphism**"
      ],
      "metadata": {
        "id": "vqrj35eqvQh_"
      }
    },
    {
      "cell_type": "code",
      "execution_count": 17,
      "metadata": {
        "colab": {
          "base_uri": "https://localhost:8080/"
        },
        "id": "X3UMX1imryBi",
        "outputId": "6e992873-2850-42d6-e861-3e8edd552161"
      },
      "outputs": [
        {
          "output_type": "stream",
          "name": "stdout",
          "text": [
            "This Triangle has 3 sides\n",
            "This Square has 4 sides\n",
            "This Pentagon has 5 sides\n",
            "This Hexagon has 6 sides\n",
            "This Heptagon has 7 sides\n"
          ]
        }
      ],
      "source": [
        "class Shape:\n",
        "  def __init__(self,sides):\n",
        "    self.sides=sides\n",
        "  def number_of_sides(self):\n",
        "    print(\"This\",self.__class__.__name__,\"has\",self.sides,\"sides\")\n",
        "class Triangle(Shape):\n",
        "  pass\n",
        "class Square(Shape):\n",
        "  pass\n",
        "class Pentagon(Shape):\n",
        "  pass\n",
        "class Hexagon(Shape):\n",
        "  pass\n",
        "class Heptagon(Shape):\n",
        "  pass\n",
        "\n",
        "triangle=Triangle(3)\n",
        "square=Square(4)\n",
        "pentagon=Pentagon(5)\n",
        "hexagon=Hexagon(6)\n",
        "heptagon=Heptagon(7)\n",
        "\n",
        "triangle.number_of_sides()\n",
        "square.number_of_sides()\n",
        "pentagon.number_of_sides()\n",
        "hexagon.number_of_sides()\n",
        "heptagon.number_of_sides()\n"
      ]
    }
  ]
}