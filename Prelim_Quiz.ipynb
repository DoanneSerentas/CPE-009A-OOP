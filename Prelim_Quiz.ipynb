{
  "nbformat": 4,
  "nbformat_minor": 0,
  "metadata": {
    "colab": {
      "provenance": [],
      "authorship_tag": "ABX9TyPWU+ssGXIO8V8TNQxACTsQ",
      "include_colab_link": true
    },
    "kernelspec": {
      "name": "python3",
      "display_name": "Python 3"
    },
    "language_info": {
      "name": "python"
    }
  },
  "cells": [
    {
      "cell_type": "markdown",
      "metadata": {
        "id": "view-in-github",
        "colab_type": "text"
      },
      "source": [
        "<a href=\"https://colab.research.google.com/github/DoanneSerentas/CPE-009A-OOP/blob/main/Prelim_Quiz.ipynb\" target=\"_parent\"><img src=\"https://colab.research.google.com/assets/colab-badge.svg\" alt=\"Open In Colab\"/></a>"
      ]
    },
    {
      "cell_type": "markdown",
      "source": [
        "#Declaring Variables"
      ],
      "metadata": {
        "id": "ymzX7HfIb7t6"
      }
    },
    {
      "cell_type": "code",
      "execution_count": 26,
      "metadata": {
        "id": "hvkpZPgLWnye"
      },
      "outputs": [],
      "source": [
        "n=20\n",
        "totalnumbers=n\n",
        "sum=0\n",
        "average=0"
      ]
    },
    {
      "cell_type": "markdown",
      "source": [
        "#While Boolean"
      ],
      "metadata": {
        "id": "F4sZqfOwcCg4"
      }
    },
    {
      "cell_type": "code",
      "source": [
        "while (n>=0):\n",
        "  sum+=n\n",
        "  n-=1\n",
        "else:\n",
        "  print(sum)"
      ],
      "metadata": {
        "colab": {
          "base_uri": "https://localhost:8080/"
        },
        "id": "E6M318_JXGcd",
        "outputId": "a023e92f-861e-4d6e-e59f-718edc283dec"
      },
      "execution_count": 27,
      "outputs": [
        {
          "output_type": "stream",
          "name": "stdout",
          "text": [
            "210\n"
          ]
        }
      ]
    },
    {
      "cell_type": "markdown",
      "source": [
        "#Computing and displaying the Average"
      ],
      "metadata": {
        "id": "pkLut1UWcU8Z"
      }
    },
    {
      "cell_type": "code",
      "source": [
        "average=sum/totalnumbers\n",
        "print(average)"
      ],
      "metadata": {
        "colab": {
          "base_uri": "https://localhost:8080/"
        },
        "id": "zWvroJyLYs8v",
        "outputId": "88eecfdf-09d8-4436-ae00-2f58758da008"
      },
      "execution_count": 30,
      "outputs": [
        {
          "output_type": "stream",
          "name": "stdout",
          "text": [
            "10.5\n"
          ]
        }
      ]
    }
  ]
}