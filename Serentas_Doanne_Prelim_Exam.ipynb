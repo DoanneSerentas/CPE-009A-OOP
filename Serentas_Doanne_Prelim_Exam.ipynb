{
  "nbformat": 4,
  "nbformat_minor": 0,
  "metadata": {
    "colab": {
      "provenance": [],
      "authorship_tag": "ABX9TyM1z+7/G+fkMuNHUUGhkUoL",
      "include_colab_link": true
    },
    "kernelspec": {
      "name": "python3",
      "display_name": "Python 3"
    },
    "language_info": {
      "name": "python"
    }
  },
  "cells": [
    {
      "cell_type": "markdown",
      "metadata": {
        "id": "view-in-github",
        "colab_type": "text"
      },
      "source": [
        "<a href=\"https://colab.research.google.com/github/DoanneSerentas/CPE-009A-OOP/blob/main/Serentas_Doanne_Prelim_Exam.ipynb\" target=\"_parent\"><img src=\"https://colab.research.google.com/assets/colab-badge.svg\" alt=\"Open In Colab\"/></a>"
      ]
    },
    {
      "cell_type": "markdown",
      "source": [
        "GIVEN:\n",
        "#fullname=input(\"Enter your name:\")\n",
        "#age=input(\"Enter your age:\")\n",
        "#print(\"Fullname is:\"+ fullname)\n",
        "#print(\"Age is:\" + age)"
      ],
      "metadata": {
        "id": "dFG9u5SMu3IJ"
      }
    },
    {
      "cell_type": "markdown",
      "source": [
        "#a is the correct answer"
      ],
      "metadata": {
        "id": "8L_JC7u9xQr4"
      }
    },
    {
      "cell_type": "code",
      "source": [
        "fullname=input(\"Enter your name:\")\n",
        "age=input(\"Enter your age:\")\n",
        "print(\"Full name and age:\" +fullname +\" \"+ \"and\"+\" \"+ age)"
      ],
      "metadata": {
        "colab": {
          "base_uri": "https://localhost:8080/"
        },
        "id": "DrdNvoDnvBbA",
        "outputId": "586347ea-d062-45cf-8c56-97fb5ed1919b"
      },
      "execution_count": 19,
      "outputs": [
        {
          "output_type": "stream",
          "name": "stdout",
          "text": [
            "Enter your name:Doanne\n",
            "Enter your age:20\n",
            "Full name and age:Doanne and 20\n"
          ]
        }
      ]
    },
    {
      "cell_type": "markdown",
      "source": [
        "b"
      ],
      "metadata": {
        "id": "nuUt7OazxW1A"
      }
    },
    {
      "cell_type": "code",
      "source": [
        "fullname=input(\"Enter your name:\")\n",
        "age=input(\"Enter your age:\")\n",
        "print(\"Full name and age :\"+fullname + age)"
      ],
      "metadata": {
        "colab": {
          "base_uri": "https://localhost:8080/"
        },
        "id": "SFq25JHHviFa",
        "outputId": "264a50b3-b1f1-4896-c313-e0dc1c138811"
      },
      "execution_count": 20,
      "outputs": [
        {
          "output_type": "stream",
          "name": "stdout",
          "text": [
            "Enter your name:Doanne\n",
            "Enter your age:20\n",
            "Full name and age :Doanne20\n"
          ]
        }
      ]
    },
    {
      "cell_type": "markdown",
      "source": [
        "c"
      ],
      "metadata": {
        "id": "6DxOQ6CbxYBH"
      }
    },
    {
      "cell_type": "code",
      "source": [
        "fullname=input(\"Enter your name:\")\n",
        "age=input(\"Enter your age:\")\n",
        "print(\"Fullname and age:\" +fullname \"\\n\" + age)"
      ],
      "metadata": {
        "colab": {
          "base_uri": "https://localhost:8080/",
          "height": 108
        },
        "id": "HCZ1fjkEviqM",
        "outputId": "a48146f3-cbd8-4c2e-a3c7-7571bd24501c"
      },
      "execution_count": 23,
      "outputs": [
        {
          "output_type": "error",
          "ename": "SyntaxError",
          "evalue": "invalid syntax. Perhaps you forgot a comma? (<ipython-input-23-e0dd0c423628>, line 3)",
          "traceback": [
            "\u001b[0;36m  File \u001b[0;32m\"<ipython-input-23-e0dd0c423628>\"\u001b[0;36m, line \u001b[0;32m3\u001b[0m\n\u001b[0;31m    print(\"Fullname and age:\" +fullname \"\\n\" + age)\u001b[0m\n\u001b[0m          ^\u001b[0m\n\u001b[0;31mSyntaxError\u001b[0m\u001b[0;31m:\u001b[0m invalid syntax. Perhaps you forgot a comma?\n"
          ]
        }
      ]
    }
  ]
}