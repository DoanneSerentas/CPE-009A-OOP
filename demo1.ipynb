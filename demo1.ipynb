{
  "nbformat": 4,
  "nbformat_minor": 0,
  "metadata": {
    "colab": {
      "provenance": [],
      "authorship_tag": "ABX9TyOllFA/9L2iUdzlWAER7fnk",
      "include_colab_link": true
    },
    "kernelspec": {
      "name": "python3",
      "display_name": "Python 3"
    },
    "language_info": {
      "name": "python"
    }
  },
  "cells": [
    {
      "cell_type": "markdown",
      "metadata": {
        "id": "view-in-github",
        "colab_type": "text"
      },
      "source": [
        "<a href=\"https://colab.research.google.com/github/DoanneSerentas/CPE-009A-OOP/blob/main/demo1.ipynb\" target=\"_parent\"><img src=\"https://colab.research.google.com/assets/colab-badge.svg\" alt=\"Open In Colab\"/></a>"
      ]
    },
    {
      "cell_type": "markdown",
      "source": [
        "#Python Identation\n",
        "xDDDDDDDDDDDDDDDDDDDDDDDDDDDDDD"
      ],
      "metadata": {
        "id": "l3d56zaCICI5"
      }
    },
    {
      "cell_type": "code",
      "source": [
        "if 5>2:\n",
        "  print(\"correct\") #funny comment"
      ],
      "metadata": {
        "colab": {
          "base_uri": "https://localhost:8080/"
        },
        "id": "WqgNhqIxIrgT",
        "outputId": "29816c63-dd07-46dd-b03f-edbeabfac2d4"
      },
      "execution_count": 9,
      "outputs": [
        {
          "output_type": "stream",
          "name": "stdout",
          "text": [
            "correct\n"
          ]
        }
      ]
    },
    {
      "cell_type": "markdown",
      "source": [
        "#comment\n",
        "\n",
        ">#(text)"
      ],
      "metadata": {
        "id": "R1qVlh15LATx"
      }
    },
    {
      "cell_type": "markdown",
      "source": [
        "#naming variable\n",
        "\n",
        ">1st must be A-z or _ (underscore)"
      ],
      "metadata": {
        "id": "wcLRa-AQLmeq"
      }
    },
    {
      "cell_type": "code",
      "source": [
        "x=1\n",
        "a,b=0,-1\n",
        "print (a)\n",
        "print (b)\n",
        "print (x)\n",
        "b='Doanne'\n",
        "print (b)"
      ],
      "metadata": {
        "id": "e9Xe_P-0MO_x"
      },
      "execution_count": null,
      "outputs": []
    },
    {
      "cell_type": "markdown",
      "source": [
        "#Casting\n",
        ">overwrite\n"
      ],
      "metadata": {
        "id": "p5n04SJ_NgyS"
      }
    },
    {
      "cell_type": "markdown",
      "source": [
        "#Data types\n",
        "int\n",
        "float\n",
        "str\n",
        "bool\n"
      ],
      "metadata": {
        "id": "iWz-t9E_OMNK"
      }
    },
    {
      "cell_type": "code",
      "source": [
        "x=5\n",
        "y=\"John\"\n",
        "print(type(x))\n",
        "print(type(y))"
      ],
      "metadata": {
        "colab": {
          "base_uri": "https://localhost:8080/"
        },
        "id": "7TSzElCNPH_Z",
        "outputId": "24288924-094d-458c-a52c-dd45b78b376f"
      },
      "execution_count": 15,
      "outputs": [
        {
          "output_type": "stream",
          "name": "stdout",
          "text": [
            "<class 'int'>\n",
            "<class 'str'>\n"
          ]
        }
      ]
    },
    {
      "cell_type": "markdown",
      "source": [
        "#case sensitive\n",
        "\n",
        "a=4 ≠ A=\"sally\""
      ],
      "metadata": {
        "id": "UuBhZAkSP22U"
      }
    },
    {
      "cell_type": "markdown",
      "source": [
        "#Multiple Variables\n",
        "x,y,z=1,2,3\n",
        "\n",
        "print(x) = 1\n",
        "print(y) = 2\n",
        "print(z) = 3"
      ],
      "metadata": {
        "id": "oLlNGKfAQNri"
      }
    },
    {
      "cell_type": "markdown",
      "source": [
        "#1 value to multiple variables\n",
        "\n",
        "x=y=z=4\n",
        "\n",
        "print(x)  = 4\n",
        "print(y)  = 4\n",
        "print(z)  = 4"
      ],
      "metadata": {
        "id": "2t4srfjmQ8WK"
      }
    },
    {
      "cell_type": "markdown",
      "source": [
        "#arithmethic operations\n",
        "\n",
        "Addition = +\n",
        "Sub = -\n",
        "Multi = *\n",
        "Div = /\n",
        "Modulus = %\n",
        "Expnent = **\n",
        "Floor div = //"
      ],
      "metadata": {
        "id": "7EyPdKgiRuxh"
      }
    },
    {
      "cell_type": "markdown",
      "source": [
        "#bool operation\n",
        "\n",
        ">==\n",
        "\n",
        ">!=\n",
        "\n",
        ">\">\"\n",
        "\n",
        ">\"<\"\n",
        "\n",
        ">\">=\"\n",
        "\n",
        ">\"<=\"\n",
        "\n",
        ">&=\n",
        "\n",
        ">|=\n",
        "\n",
        ">^=\n",
        "\n",
        ">~="
      ],
      "metadata": {
        "id": "lsX7hz4VXfGr"
      }
    },
    {
      "cell_type": "code",
      "source": [
        "x=1\n",
        "(x<5)==(x<10)"
      ],
      "metadata": {
        "colab": {
          "base_uri": "https://localhost:8080/"
        },
        "id": "WQyNF1QJXNnz",
        "outputId": "0e330f7b-4ddf-4d96-a3fa-5856b45439cf"
      },
      "execution_count": 16,
      "outputs": [
        {
          "output_type": "execute_result",
          "data": {
            "text/plain": [
              "True"
            ]
          },
          "metadata": {},
          "execution_count": 16
        }
      ]
    }
  ]
}