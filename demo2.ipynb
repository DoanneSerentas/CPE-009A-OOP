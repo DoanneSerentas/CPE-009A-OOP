{
  "nbformat": 4,
  "nbformat_minor": 0,
  "metadata": {
    "colab": {
      "provenance": [],
      "authorship_tag": "ABX9TyP/WTQ1gjVmoNs2Xwypbnlm",
      "include_colab_link": true
    },
    "kernelspec": {
      "name": "python3",
      "display_name": "Python 3"
    },
    "language_info": {
      "name": "python"
    }
  },
  "cells": [
    {
      "cell_type": "markdown",
      "metadata": {
        "id": "view-in-github",
        "colab_type": "text"
      },
      "source": [
        "<a href=\"https://colab.research.google.com/github/DoanneSerentas/CPE-009A-OOP/blob/main/demo2.ipynb\" target=\"_parent\"><img src=\"https://colab.research.google.com/assets/colab-badge.svg\" alt=\"Open In Colab\"/></a>"
      ]
    },
    {
      "cell_type": "markdown",
      "source": [
        "#Algorithm\n",
        "\n"
      ],
      "metadata": {
        "id": "dxOzmYSEIpCL"
      }
    },
    {
      "cell_type": "markdown",
      "source": [
        "#Flow chart\n",
        "\n",
        ">Terminal = start\n",
        "\n",
        ">init hex= used to symbolize the variables\n",
        "\n",
        ">process (square) =\n",
        "\n",
        ">decision (diamond)\n",
        "\n",
        ">input/output\n",
        "\n",
        ">direction arrow\n",
        "\n",
        ">connector (circle)"
      ],
      "metadata": {
        "id": "V21t6GdcIuOD"
      }
    },
    {
      "cell_type": "code",
      "source": [
        "num1=69\n",
        "num2=75\n",
        "num3=96\n",
        "average=0\n",
        "\n",
        "sum=num1+num2+num3\n",
        "average=sum/3\n",
        "\n",
        "if(average>50):\n",
        "  print(\"yup passed\")\n",
        "\n",
        "if(average<50):\n",
        "  print(\"womp womp\")\n",
        "print(average)"
      ],
      "metadata": {
        "colab": {
          "base_uri": "https://localhost:8080/"
        },
        "id": "isCDriLXNA3M",
        "outputId": "b63715ad-12fe-41a7-8769-a4f6442b4586"
      },
      "execution_count": 8,
      "outputs": [
        {
          "output_type": "stream",
          "name": "stdout",
          "text": [
            "yup passed\n",
            "80.0\n"
          ]
        }
      ]
    },
    {
      "cell_type": "code",
      "source": [
        "print(\"show the grades\")\n",
        "num1=input()\n",
        "num2=input()\n",
        "num3=input()\n",
        "average=(int(num1)+int(num2)+int(num3))/3\n",
        "print(average)"
      ],
      "metadata": {
        "colab": {
          "base_uri": "https://localhost:8080/"
        },
        "id": "UdHYEqvTP4XN",
        "outputId": "ce668e02-0308-4b32-ac55-5d682e9c94f9"
      },
      "execution_count": 12,
      "outputs": [
        {
          "output_type": "stream",
          "name": "stdout",
          "text": [
            "show the grades\n",
            "23\n",
            "45\n",
            "49\n",
            "39.0\n"
          ]
        }
      ]
    },
    {
      "cell_type": "code",
      "source": [],
      "metadata": {
        "id": "HiOgYyMoQN45"
      },
      "execution_count": null,
      "outputs": []
    }
  ]
}