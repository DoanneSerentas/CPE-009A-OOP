{
  "nbformat": 4,
  "nbformat_minor": 0,
  "metadata": {
    "colab": {
      "provenance": [],
      "authorship_tag": "ABX9TyOrDeq73e8mbJHbV4SzFXUU",
      "include_colab_link": true
    },
    "kernelspec": {
      "name": "python3",
      "display_name": "Python 3"
    },
    "language_info": {
      "name": "python"
    }
  },
  "cells": [
    {
      "cell_type": "markdown",
      "metadata": {
        "id": "view-in-github",
        "colab_type": "text"
      },
      "source": [
        "<a href=\"https://colab.research.google.com/github/DoanneSerentas/CPE-009A-OOP/blob/main/demo3.ipynb\" target=\"_parent\"><img src=\"https://colab.research.google.com/assets/colab-badge.svg\" alt=\"Open In Colab\"/></a>"
      ]
    },
    {
      "cell_type": "markdown",
      "source": [
        "#Conditional statement in Phython"
      ],
      "metadata": {
        "id": "y8FQ5CqEONed"
      }
    },
    {
      "cell_type": "markdown",
      "source": [
        "elif = else if"
      ],
      "metadata": {
        "id": "7iEgkn0aOKJY"
      }
    },
    {
      "cell_type": "code",
      "source": [
        "#if statement\n",
        "\n",
        "a=12\n",
        "b=100\n",
        "if b>a:\n",
        "  print(\"this is greater than a\")"
      ],
      "metadata": {
        "id": "khwZIjzeOdZV",
        "colab": {
          "base_uri": "https://localhost:8080/"
        },
        "outputId": "bf0472cd-a036-4494-9d11-ec29e49caa16"
      },
      "execution_count": null,
      "outputs": [
        {
          "output_type": "stream",
          "name": "stdout",
          "text": [
            "this is greater than a\n"
          ]
        }
      ]
    },
    {
      "cell_type": "code",
      "source": [
        "#elif statement\n",
        "\n",
        "a=14\n",
        "b=13\n",
        "if b>a:\n",
        "  print(\"b is greater than a\")\n",
        "elif a==b:\n",
        "  print(\"equal\")"
      ],
      "metadata": {
        "id": "2R22qLWFPhGo"
      },
      "execution_count": 18,
      "outputs": []
    },
    {
      "cell_type": "code",
      "source": [
        "#short hand if statement\n",
        "if a>b:print (\"a is greater than b\")"
      ],
      "metadata": {
        "colab": {
          "base_uri": "https://localhost:8080/"
        },
        "id": "TKuq6aOsScPK",
        "outputId": "cfd37dec-e0a4-419b-8c18-8a5a1081e52a"
      },
      "execution_count": 19,
      "outputs": [
        {
          "output_type": "stream",
          "name": "stdout",
          "text": [
            "a is greater than b\n"
          ]
        }
      ]
    },
    {
      "cell_type": "code",
      "source": [
        "a=2\n",
        "b=330\n",
        "print(\"A\")if a>b else print(\"B\")"
      ],
      "metadata": {
        "colab": {
          "base_uri": "https://localhost:8080/"
        },
        "id": "oGehMSmDTnyG",
        "outputId": "e5ba1bc5-9208-4f79-f4bb-29a2c7b71491"
      },
      "execution_count": 21,
      "outputs": [
        {
          "output_type": "stream",
          "name": "stdout",
          "text": [
            "B\n"
          ]
        }
      ]
    },
    {
      "cell_type": "code",
      "source": [
        "#conjunction\n",
        "a=200\n",
        "b=33\n",
        "c=500\n",
        "if a>b and c>a:\n",
        "  print(\"both conditions are true\")\n",
        "else: print(\"false\")"
      ],
      "metadata": {
        "colab": {
          "base_uri": "https://localhost:8080/"
        },
        "id": "ZJq14x1CUBL-",
        "outputId": "90d4fe15-f8a7-4225-8076-746e5f27b9df"
      },
      "execution_count": 27,
      "outputs": [
        {
          "output_type": "stream",
          "name": "stdout",
          "text": [
            "false\n"
          ]
        }
      ]
    },
    {
      "cell_type": "code",
      "source": [
        "#disjunction\n",
        "a=200\n",
        "b=33\n",
        "c=500\n",
        "if a<b or c<a:\n",
        "  print(\"both conditions are true\")\n",
        "else: print(\"false\")"
      ],
      "metadata": {
        "colab": {
          "base_uri": "https://localhost:8080/"
        },
        "id": "mFEZt8FGU6tI",
        "outputId": "53abb00f-bc3c-462b-bcfb-edd853d11000"
      },
      "execution_count": 31,
      "outputs": [
        {
          "output_type": "stream",
          "name": "stdout",
          "text": [
            "false\n"
          ]
        }
      ]
    },
    {
      "cell_type": "code",
      "source": [
        "#nested if\n",
        "x=41\n",
        "if x>10:\n",
        "  print(\"above 10\")\n",
        "else:\n",
        "  print(\"below 10\")\n",
        "if x>20:\n",
        "  print(\"also above 20\")\n",
        "else:\n",
        "  print(\"below 20\")\n",
        "if x>30:\n",
        "  print(\"also above 30\")\n",
        "else:\n",
        "  print(\"below 30\")\n",
        "if x>40:\n",
        "  print(\"also above 40\")\n",
        "else:\n",
        "    print(\"below 40\")"
      ],
      "metadata": {
        "colab": {
          "base_uri": "https://localhost:8080/"
        },
        "id": "v0Ui_DxUVQAC",
        "outputId": "817a3f7e-b85e-46a3-f03a-d8ca0b13edc3"
      },
      "execution_count": 48,
      "outputs": [
        {
          "output_type": "stream",
          "name": "stdout",
          "text": [
            "above 10\n",
            "also above 20\n",
            "also above 30\n",
            "also above 40\n"
          ]
        }
      ]
    }
  ]
}