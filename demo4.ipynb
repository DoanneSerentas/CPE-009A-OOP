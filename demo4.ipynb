{
  "nbformat": 4,
  "nbformat_minor": 0,
  "metadata": {
    "colab": {
      "provenance": [],
      "authorship_tag": "ABX9TyN8Gr92SrKOO/TduFCtExiR",
      "include_colab_link": true
    },
    "kernelspec": {
      "name": "python3",
      "display_name": "Python 3"
    },
    "language_info": {
      "name": "python"
    }
  },
  "cells": [
    {
      "cell_type": "markdown",
      "metadata": {
        "id": "view-in-github",
        "colab_type": "text"
      },
      "source": [
        "<a href=\"https://colab.research.google.com/github/DoanneSerentas/CPE-009A-OOP/blob/main/demo4.ipynb\" target=\"_parent\"><img src=\"https://colab.research.google.com/assets/colab-badge.svg\" alt=\"Open In Colab\"/></a>"
      ]
    },
    {
      "cell_type": "markdown",
      "source": [
        "#Bool function"
      ],
      "metadata": {
        "id": "H9ilMLrZZsVe"
      }
    },
    {
      "cell_type": "code",
      "execution_count": 2,
      "metadata": {
        "colab": {
          "base_uri": "https://localhost:8080/"
        },
        "id": "8AyIdSwSUMk2",
        "outputId": "f43c0f4f-286c-4238-cb8a-60960757ca8c"
      },
      "outputs": [
        {
          "output_type": "stream",
          "name": "stdout",
          "text": [
            "True\n",
            "True\n"
          ]
        },
        {
          "output_type": "execute_result",
          "data": {
            "text/plain": [
              "False"
            ]
          },
          "metadata": {},
          "execution_count": 2
        }
      ],
      "source": [
        "print(bool(\"Hello\"))\n",
        "print(bool(15))\n",
        "\n",
        "bool(False)\n",
        "bool(None)\n",
        "bool(0)\n",
        "bool(\"\")\n",
        "bool(())\n",
        "bool([])\n",
        "bool({})"
      ]
    },
    {
      "cell_type": "markdown",
      "source": [
        "Functions can return a boolean\n"
      ],
      "metadata": {
        "id": "U90Rcz8kadjm"
      }
    },
    {
      "cell_type": "code",
      "source": [
        "def myfunction():\n",
        "  return False"
      ],
      "metadata": {
        "id": "OScAW079ajcl"
      },
      "execution_count": 9,
      "outputs": []
    },
    {
      "cell_type": "code",
      "source": [
        "if myfunction():\n",
        "  print(\"YES!\")\n",
        "else:\n",
        "  print(\"NO!\")"
      ],
      "metadata": {
        "colab": {
          "base_uri": "https://localhost:8080/"
        },
        "id": "NpUAXk8Pa3_O",
        "outputId": "5f36e414-f5ef-4700-b3dd-fd985de11ee0"
      },
      "execution_count": 10,
      "outputs": [
        {
          "output_type": "stream",
          "name": "stdout",
          "text": [
            "NO!\n"
          ]
        }
      ]
    },
    {
      "cell_type": "code",
      "source": [
        "print(10>9)\n",
        "a=6\n",
        "b=7\n",
        "print(a==b)\n",
        "print(a!=a)"
      ],
      "metadata": {
        "colab": {
          "base_uri": "https://localhost:8080/"
        },
        "id": "-ab71ZgNcFmb",
        "outputId": "800b95eb-17d0-4d15-92be-efde03c1157b"
      },
      "execution_count": 11,
      "outputs": [
        {
          "output_type": "stream",
          "name": "stdout",
          "text": [
            "True\n",
            "False\n",
            "False\n"
          ]
        }
      ]
    },
    {
      "cell_type": "markdown",
      "source": [
        ">modulo= 10%6=4\n",
        "\n",
        ">floor div= 10//5=2\n",
        "\n",
        ">div = 10/3= 3.33\n",
        "\n",
        ">exponent = 10**2=100\n",
        "\n",
        ">multi= 10*2=20\n"
      ],
      "metadata": {
        "id": "x2RWZk68dTWf"
      }
    },
    {
      "cell_type": "markdown",
      "source": [
        "#Bitwise operators\n"
      ],
      "metadata": {
        "id": "sw9gto7UelOX"
      }
    },
    {
      "cell_type": "code",
      "source": [
        "a=60\n",
        "b=13"
      ],
      "metadata": {
        "id": "yLlkSLaLfann"
      },
      "execution_count": 13,
      "outputs": []
    },
    {
      "cell_type": "markdown",
      "source": [
        ">& Binary AND\n",
        "\n",
        ">| Binary OR\n",
        "\n",
        ">^ Binary NOR\n",
        "\n",
        ">~ Binary Complement\n",
        "\n",
        "><< Binary shift to left\n",
        "\n",
        "> (>>) Binary shift to right"
      ],
      "metadata": {
        "id": "nZtM2_s-gQbm"
      }
    },
    {
      "cell_type": "code",
      "source": [
        "print(a&b)\n",
        "print(a|b)\n",
        "print(a^b)"
      ],
      "metadata": {
        "colab": {
          "base_uri": "https://localhost:8080/"
        },
        "id": "P7JlX7Czgn1G",
        "outputId": "58fd5906-bde2-4ccb-8bf9-54ca0765d76e"
      },
      "execution_count": 16,
      "outputs": [
        {
          "output_type": "stream",
          "name": "stdout",
          "text": [
            "12\n",
            "61\n",
            "49\n"
          ]
        }
      ]
    },
    {
      "cell_type": "markdown",
      "source": [
        "#Python Assignment operators\n"
      ],
      "metadata": {
        "id": "MfHx-xbYinhY"
      }
    },
    {
      "cell_type": "code",
      "source": [
        "x=1\n",
        "x+=3 #Same As x=x+3\n",
        "x-=3 #Same AS x=x-3\n",
        "x*=3\n",
        "x/=3\n",
        "x%=3 #Same As x=x%3\n",
        "\n",
        "print(x)"
      ],
      "metadata": {
        "colab": {
          "base_uri": "https://localhost:8080/"
        },
        "id": "VSGLiJRJixrH",
        "outputId": "b2948b3f-e04c-43e9-bee5-9f739c46bef5"
      },
      "execution_count": 21,
      "outputs": [
        {
          "output_type": "stream",
          "name": "stdout",
          "text": [
            "1.0\n"
          ]
        }
      ]
    },
    {
      "cell_type": "markdown",
      "source": [
        "#Logical Operators"
      ],
      "metadata": {
        "id": "vdn-fyymkXUP"
      }
    },
    {
      "cell_type": "code",
      "source": [
        "y=60\n",
        "z=13\n",
        "print(y>z)\n",
        "print(z>y)\n",
        "print(y>z and z>y)\n",
        "print(NOT(y>z and z<y))"
      ],
      "metadata": {
        "colab": {
          "base_uri": "https://localhost:8080/",
          "height": 234
        },
        "id": "jZ4u_HTxkZow",
        "outputId": "1f9ed1a2-53bf-4dea-c400-e98ca872f274"
      },
      "execution_count": 25,
      "outputs": [
        {
          "output_type": "stream",
          "name": "stdout",
          "text": [
            "True\n",
            "False\n",
            "False\n"
          ]
        },
        {
          "output_type": "error",
          "ename": "NameError",
          "evalue": "name 'NOT' is not defined",
          "traceback": [
            "\u001b[0;31m---------------------------------------------------------------------------\u001b[0m",
            "\u001b[0;31mNameError\u001b[0m                                 Traceback (most recent call last)",
            "\u001b[0;32m<ipython-input-25-0333ff1b87ac>\u001b[0m in \u001b[0;36m<cell line: 6>\u001b[0;34m()\u001b[0m\n\u001b[1;32m      4\u001b[0m \u001b[0mprint\u001b[0m\u001b[0;34m(\u001b[0m\u001b[0mz\u001b[0m\u001b[0;34m>\u001b[0m\u001b[0my\u001b[0m\u001b[0;34m)\u001b[0m\u001b[0;34m\u001b[0m\u001b[0;34m\u001b[0m\u001b[0m\n\u001b[1;32m      5\u001b[0m \u001b[0mprint\u001b[0m\u001b[0;34m(\u001b[0m\u001b[0my\u001b[0m\u001b[0;34m>\u001b[0m\u001b[0mz\u001b[0m \u001b[0;32mand\u001b[0m \u001b[0mz\u001b[0m\u001b[0;34m>\u001b[0m\u001b[0my\u001b[0m\u001b[0;34m)\u001b[0m\u001b[0;34m\u001b[0m\u001b[0;34m\u001b[0m\u001b[0m\n\u001b[0;32m----> 6\u001b[0;31m \u001b[0mprint\u001b[0m\u001b[0;34m(\u001b[0m\u001b[0mNOT\u001b[0m\u001b[0;34m(\u001b[0m\u001b[0my\u001b[0m\u001b[0;34m>\u001b[0m\u001b[0mz\u001b[0m \u001b[0;32mand\u001b[0m \u001b[0mz\u001b[0m\u001b[0;34m<\u001b[0m\u001b[0my\u001b[0m\u001b[0;34m)\u001b[0m\u001b[0;34m)\u001b[0m\u001b[0;34m\u001b[0m\u001b[0;34m\u001b[0m\u001b[0m\n\u001b[0m",
            "\u001b[0;31mNameError\u001b[0m: name 'NOT' is not defined"
          ]
        }
      ]
    },
    {
      "cell_type": "markdown",
      "source": [
        "#Identity Operator\n",
        "\n",
        ">is\n",
        "\n"
      ],
      "metadata": {
        "id": "Kn5uN3n2m7tI"
      }
    },
    {
      "cell_type": "markdown",
      "source": [
        "#Looping Statement\n",
        "> for loop\n",
        "\n",
        ">"
      ],
      "metadata": {
        "id": "mSqlSRTSqG5g"
      }
    },
    {
      "cell_type": "code",
      "source": [
        "week=[\"Sunday\",\"Mon\",\"Tues\",\"Wed\",\"Thurs\",\"Fri\",\"Sat\"]\n",
        "for x in week:\n",
        "  print(x)\n",
        "  if x==\"Thurs\":\n",
        "    break\n",
        "  print(x)"
      ],
      "metadata": {
        "colab": {
          "base_uri": "https://localhost:8080/"
        },
        "id": "C1N3T2xCqJ1x",
        "outputId": "a4ddade2-f3f0-42d1-d7fe-43b3948be2d8"
      },
      "execution_count": 31,
      "outputs": [
        {
          "output_type": "stream",
          "name": "stdout",
          "text": [
            "Sunday\n",
            "Sunday\n",
            "Mon\n",
            "Mon\n",
            "Tues\n",
            "Tues\n",
            "Wed\n",
            "Wed\n",
            "Thurs\n"
          ]
        }
      ]
    },
    {
      "cell_type": "markdown",
      "source": [
        "#Looping through string"
      ],
      "metadata": {
        "id": "q5poOeruuNdW"
      }
    },
    {
      "cell_type": "code",
      "source": [
        "for x in \"week\":\n",
        "  print(x)"
      ],
      "metadata": {
        "colab": {
          "base_uri": "https://localhost:8080/",
          "height": 108
        },
        "id": "okHGBrLRuP7_",
        "outputId": "05f74abc-71bc-4416-94aa-31b1dabcfb0f"
      },
      "execution_count": 32,
      "outputs": [
        {
          "output_type": "error",
          "ename": "SyntaxError",
          "evalue": "incomplete input (<ipython-input-32-200adf6d1bcb>, line 1)",
          "traceback": [
            "\u001b[0;36m  File \u001b[0;32m\"<ipython-input-32-200adf6d1bcb>\"\u001b[0;36m, line \u001b[0;32m1\u001b[0m\n\u001b[0;31m    for x in \"week\":\u001b[0m\n\u001b[0m                    ^\u001b[0m\n\u001b[0;31mSyntaxError\u001b[0m\u001b[0;31m:\u001b[0m incomplete input\n"
          ]
        }
      ]
    },
    {
      "cell_type": "code",
      "source": [],
      "metadata": {
        "id": "21EoTGH_uSO9"
      },
      "execution_count": null,
      "outputs": []
    },
    {
      "cell_type": "markdown",
      "source": [
        "#The range() Function"
      ],
      "metadata": {
        "id": "1pqLh5DzvYIV"
      }
    },
    {
      "cell_type": "code",
      "source": [
        "for x in range(6):\n",
        "  print(x)\n",
        "for x in range(2,6):\n",
        "  print(x)"
      ],
      "metadata": {
        "colab": {
          "base_uri": "https://localhost:8080/"
        },
        "id": "kMHAlXQrwBZ9",
        "outputId": "2d9284e9-3e28-4b01-9d10-63879c83dbc7"
      },
      "execution_count": 34,
      "outputs": [
        {
          "output_type": "stream",
          "name": "stdout",
          "text": [
            "0\n",
            "1\n",
            "2\n",
            "3\n",
            "4\n",
            "5\n",
            "2\n",
            "3\n",
            "4\n",
            "5\n"
          ]
        }
      ]
    },
    {
      "cell_type": "markdown",
      "source": [
        "Nested Loops"
      ],
      "metadata": {
        "id": "KkzdF6HywpNV"
      }
    },
    {
      "cell_type": "code",
      "source": [
        "adjective=[\"red\",\"big\",\"tasty\"]\n",
        "fruits=[\"apple\",\"banana\",\"cherry\"]\n",
        "\n",
        "for x in adjective:\n",
        "  for y in fruits:\n",
        "    print(x,y)"
      ],
      "metadata": {
        "colab": {
          "base_uri": "https://localhost:8080/"
        },
        "id": "lkS_7UnWwqat",
        "outputId": "91742e8e-e1cd-4b0f-8e61-ca5726a1cc08"
      },
      "execution_count": 35,
      "outputs": [
        {
          "output_type": "stream",
          "name": "stdout",
          "text": [
            "red apple\n",
            "red banana\n",
            "red cherry\n",
            "big apple\n",
            "big banana\n",
            "big cherry\n",
            "tasty apple\n",
            "tasty banana\n",
            "tasty cherry\n"
          ]
        }
      ]
    },
    {
      "cell_type": "markdown",
      "source": [
        "#While Loop"
      ],
      "metadata": {
        "id": "mUhIKxKmx39t"
      }
    },
    {
      "cell_type": "code",
      "source": [
        "i=6\n",
        "while i<6:\n",
        "  print(i)\n",
        "  i+=1"
      ],
      "metadata": {
        "id": "iiHK4mBEx6Zs"
      },
      "execution_count": null,
      "outputs": []
    },
    {
      "cell_type": "markdown",
      "source": [
        "#Break statement"
      ],
      "metadata": {
        "id": "Qth-yKQoydh0"
      }
    },
    {
      "cell_type": "code",
      "source": [
        "i=6\n",
        "while i<6:\n",
        "  print(i)\n",
        "  if i==3:\n",
        "    break\n",
        "  i+=1"
      ],
      "metadata": {
        "colab": {
          "base_uri": "https://localhost:8080/",
          "height": 108
        },
        "id": "oHZpxfoVyf0U",
        "outputId": "77fe4a8e-cb3a-483c-c32a-75485f68722c"
      },
      "execution_count": 36,
      "outputs": [
        {
          "output_type": "error",
          "ename": "SyntaxError",
          "evalue": "incomplete input (<ipython-input-36-b5c86d829d22>, line 4)",
          "traceback": [
            "\u001b[0;36m  File \u001b[0;32m\"<ipython-input-36-b5c86d829d22>\"\u001b[0;36m, line \u001b[0;32m4\u001b[0m\n\u001b[0;31m    if i==3:\u001b[0m\n\u001b[0m            ^\u001b[0m\n\u001b[0;31mSyntaxError\u001b[0m\u001b[0;31m:\u001b[0m incomplete input\n"
          ]
        }
      ]
    },
    {
      "cell_type": "markdown",
      "source": [
        "#Continue statement"
      ],
      "metadata": {
        "id": "kfxyKgynzanE"
      }
    },
    {
      "cell_type": "markdown",
      "source": [
        "#Else statement"
      ],
      "metadata": {
        "id": "xUh3dSb8zeer"
      }
    },
    {
      "cell_type": "code",
      "source": [
        "i=1\n",
        "while i<6:\n",
        "  print(i)\n",
        "  i+=1\n",
        "  else:\n",
        "    print(\"i is no longer less than 6\")"
      ],
      "metadata": {
        "id": "WfSjNs4OztOs"
      },
      "execution_count": null,
      "outputs": []
    }
  ]
}