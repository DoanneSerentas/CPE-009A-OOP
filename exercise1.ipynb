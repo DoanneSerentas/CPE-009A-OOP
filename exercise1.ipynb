{
  "nbformat": 4,
  "nbformat_minor": 0,
  "metadata": {
    "colab": {
      "provenance": [],
      "authorship_tag": "ABX9TyNTHCDf3LfZQcbR2uav+lTW",
      "include_colab_link": true
    },
    "kernelspec": {
      "name": "python3",
      "display_name": "Python 3"
    },
    "language_info": {
      "name": "python"
    }
  },
  "cells": [
    {
      "cell_type": "markdown",
      "metadata": {
        "id": "view-in-github",
        "colab_type": "text"
      },
      "source": [
        "<a href=\"https://colab.research.google.com/github/DoanneSerentas/CPE-009A-OOP/blob/main/exercise1.ipynb\" target=\"_parent\"><img src=\"https://colab.research.google.com/assets/colab-badge.svg\" alt=\"Open In Colab\"/></a>"
      ]
    },
    {
      "cell_type": "code",
      "execution_count": 9,
      "metadata": {
        "colab": {
          "base_uri": "https://localhost:8080/"
        },
        "id": "1YgHSGbtTdpq",
        "outputId": "05402812-3c38-4596-80c8-6df24b52e86e"
      },
      "outputs": [
        {
          "output_type": "stream",
          "name": "stdout",
          "text": [
            "Enter length of rectangle\n",
            "9\n",
            "Enter width of rectangle\n",
            "3\n",
            "The perimeter of the rectangle is:\n",
            "(2* 9 )+(2* 3 )\n",
            "24\n",
            "The area of the rectangle is:\n",
            "9 * 3\n",
            "27\n"
          ]
        }
      ],
      "source": [
        "print(\"Enter length of rectangle\")\n",
        "l=input()\n",
        "print(\"Enter width of rectangle\")\n",
        "w=input()\n",
        "perimeter=(2*int(l))+(2*int(w))\n",
        "area=int(l)*int(w)\n",
        "print(\"The perimeter of the rectangle is:\")\n",
        "print(\"(2*\",int(l),\")+(2*\",int(w),\")\")\n",
        "print(perimeter)\n",
        "print(\"The area of the rectangle is:\")\n",
        "print(int(l),\"*\",int(w))\n",
        "print(area)"
      ]
    }
  ]
}